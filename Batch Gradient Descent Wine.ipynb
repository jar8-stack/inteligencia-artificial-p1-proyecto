{
 "cells": [
  {
   "cell_type": "code",
   "execution_count": 242,
   "metadata": {},
   "outputs": [],
   "source": [
    "import pandas as pd\n",
    "import numpy as np\n",
    "import matplotlib.pyplot as plt\n",
    "\n",
    "from sklearn.model_selection import train_test_split\n",
    "from sklearn.metrics import mean_squared_error\n",
    "from sklearn.preprocessing import StandardScaler\n",
    "from sklearn.linear_model import SGDRegressor"
   ]
  },
  {
   "cell_type": "code",
   "execution_count": 243,
   "metadata": {},
   "outputs": [],
   "source": [
    "dataWine=pd.read_csv('winequality-red.csv')"
   ]
  },
  {
   "cell_type": "code",
   "execution_count": 244,
   "metadata": {},
   "outputs": [],
   "source": [
    "X= np.matrix(dataWine.iloc[:][['fixed acidity']])\n",
    "Y= np.matrix(dataWine.iloc[:][['quality']])"
   ]
  },
  {
   "cell_type": "code",
   "execution_count": 262,
   "metadata": {},
   "outputs": [],
   "source": [
    "class MyBatchGradientDescent():\n",
    "    def __init__(self, learning_rate):\n",
    "        self.learning_rate = learning_rate\n",
    "        self.w = 0\n",
    "        self.b = 0\n",
    "          \n",
    "    def fit(self, X, y, epochs = 27):\n",
    "        N = len(X)\n",
    "        history = []\n",
    "        \n",
    "        for e in range(epochs):\n",
    "            f = y - (self.w * X + self.b)\n",
    "    \n",
    "            self.w -= self.learning_rate * (-2 * X.dot(f.T).sum() / N)\n",
    "            self.b -= self.learning_rate * (-2 * f.sum() / N)\n",
    "        \n",
    "            loss = mean_squared_error(y, (self.w * X + self.b))\n",
    "                                      \n",
    "            if e % 27 == 0:\n",
    "                print(f\"Epoch: {e}, Loss: {loss})\")                \n",
    "            \n",
    "            history.append(loss)\n",
    "                                      \n",
    "        return history\n",
    "                \n",
    "    def predict(self, X):        \n",
    "        return self.w * X + self.b"
   ]
  },
  {
   "cell_type": "code",
   "execution_count": 315,
   "metadata": {},
   "outputs": [
    {
     "name": "stdout",
     "output_type": "stream",
     "text": [
      "Epoch: 0, Loss: 12433148.935361318)\n"
     ]
    }
   ],
   "source": [
    "model = MyBatchGradientDescent(learning_rate = 0.2)\n",
    "history = model.fit(X, Y, 27)\n",
    "\n",
    "predictions = model.predict(6.3)"
   ]
  },
  {
   "cell_type": "code",
   "execution_count": 316,
   "metadata": {},
   "outputs": [
    {
     "data": {
      "text/plain": [
       "4.8775615587489955e+76"
      ]
     },
     "execution_count": 316,
     "metadata": {},
     "output_type": "execute_result"
    }
   ],
   "source": [
    "predictions"
   ]
  },
  {
   "cell_type": "code",
   "execution_count": null,
   "metadata": {},
   "outputs": [],
   "source": []
  }
 ],
 "metadata": {
  "kernelspec": {
   "display_name": "Python 3",
   "language": "python",
   "name": "python3"
  },
  "language_info": {
   "codemirror_mode": {
    "name": "ipython",
    "version": 3
   },
   "file_extension": ".py",
   "mimetype": "text/x-python",
   "name": "python",
   "nbconvert_exporter": "python",
   "pygments_lexer": "ipython3",
   "version": "3.8.5"
  }
 },
 "nbformat": 4,
 "nbformat_minor": 4
}
