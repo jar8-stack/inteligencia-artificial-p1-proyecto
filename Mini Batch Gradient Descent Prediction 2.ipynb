{
 "cells": [
  {
   "cell_type": "code",
   "execution_count": 2,
   "id": "dental-manor",
   "metadata": {},
   "outputs": [],
   "source": [
    "# importing dependencies \n",
    "import numpy as np\n",
    "import pandas as pd\n",
    "import matplotlib.pyplot as plt "
   ]
  },
  {
   "cell_type": "code",
   "execution_count": 3,
   "id": "concerned-election",
   "metadata": {},
   "outputs": [],
   "source": [
    "dataWine = pd.read_csv('winequality-red.csv')"
   ]
  },
  {
   "cell_type": "code",
   "execution_count": 4,
   "id": "verbal-preference",
   "metadata": {},
   "outputs": [
    {
     "data": {
      "text/html": [
       "<div>\n",
       "<style scoped>\n",
       "    .dataframe tbody tr th:only-of-type {\n",
       "        vertical-align: middle;\n",
       "    }\n",
       "\n",
       "    .dataframe tbody tr th {\n",
       "        vertical-align: top;\n",
       "    }\n",
       "\n",
       "    .dataframe thead th {\n",
       "        text-align: right;\n",
       "    }\n",
       "</style>\n",
       "<table border=\"1\" class=\"dataframe\">\n",
       "  <thead>\n",
       "    <tr style=\"text-align: right;\">\n",
       "      <th></th>\n",
       "      <th>fixed acidity</th>\n",
       "      <th>volatile acidity</th>\n",
       "      <th>citric acid</th>\n",
       "      <th>residual sugar</th>\n",
       "      <th>chlorides</th>\n",
       "      <th>free sulfur dioxide</th>\n",
       "      <th>total sulfur dioxide</th>\n",
       "      <th>density</th>\n",
       "      <th>pH</th>\n",
       "      <th>sulphates</th>\n",
       "      <th>alcohol</th>\n",
       "      <th>quality</th>\n",
       "    </tr>\n",
       "  </thead>\n",
       "  <tbody>\n",
       "    <tr>\n",
       "      <th>0</th>\n",
       "      <td>7.4</td>\n",
       "      <td>0.70</td>\n",
       "      <td>0.00</td>\n",
       "      <td>1.9</td>\n",
       "      <td>0.076</td>\n",
       "      <td>11</td>\n",
       "      <td>34</td>\n",
       "      <td>0.9978</td>\n",
       "      <td>3.51</td>\n",
       "      <td>0.56</td>\n",
       "      <td>9.4</td>\n",
       "      <td>5</td>\n",
       "    </tr>\n",
       "    <tr>\n",
       "      <th>1</th>\n",
       "      <td>7.8</td>\n",
       "      <td>0.88</td>\n",
       "      <td>0.00</td>\n",
       "      <td>2.6</td>\n",
       "      <td>0.098</td>\n",
       "      <td>25</td>\n",
       "      <td>67</td>\n",
       "      <td>0.9968</td>\n",
       "      <td>3.20</td>\n",
       "      <td>0.68</td>\n",
       "      <td>9.8</td>\n",
       "      <td>5</td>\n",
       "    </tr>\n",
       "    <tr>\n",
       "      <th>2</th>\n",
       "      <td>7.8</td>\n",
       "      <td>0.76</td>\n",
       "      <td>0.04</td>\n",
       "      <td>2.3</td>\n",
       "      <td>0.092</td>\n",
       "      <td>15</td>\n",
       "      <td>54</td>\n",
       "      <td>0.9970</td>\n",
       "      <td>3.26</td>\n",
       "      <td>0.65</td>\n",
       "      <td>9.8</td>\n",
       "      <td>5</td>\n",
       "    </tr>\n",
       "    <tr>\n",
       "      <th>3</th>\n",
       "      <td>11.2</td>\n",
       "      <td>0.28</td>\n",
       "      <td>0.56</td>\n",
       "      <td>1.9</td>\n",
       "      <td>0.075</td>\n",
       "      <td>17</td>\n",
       "      <td>60</td>\n",
       "      <td>0.9980</td>\n",
       "      <td>3.16</td>\n",
       "      <td>0.58</td>\n",
       "      <td>9.8</td>\n",
       "      <td>6</td>\n",
       "    </tr>\n",
       "    <tr>\n",
       "      <th>4</th>\n",
       "      <td>7.4</td>\n",
       "      <td>0.70</td>\n",
       "      <td>0.00</td>\n",
       "      <td>1.9</td>\n",
       "      <td>0.076</td>\n",
       "      <td>11</td>\n",
       "      <td>34</td>\n",
       "      <td>0.9978</td>\n",
       "      <td>3.51</td>\n",
       "      <td>0.56</td>\n",
       "      <td>9.4</td>\n",
       "      <td>5</td>\n",
       "    </tr>\n",
       "  </tbody>\n",
       "</table>\n",
       "</div>"
      ],
      "text/plain": [
       "   fixed acidity  volatile acidity  citric acid  residual sugar  chlorides  \\\n",
       "0            7.4              0.70         0.00             1.9      0.076   \n",
       "1            7.8              0.88         0.00             2.6      0.098   \n",
       "2            7.8              0.76         0.04             2.3      0.092   \n",
       "3           11.2              0.28         0.56             1.9      0.075   \n",
       "4            7.4              0.70         0.00             1.9      0.076   \n",
       "\n",
       "   free sulfur dioxide  total sulfur dioxide  density    pH  sulphates  \\\n",
       "0                   11                    34   0.9978  3.51       0.56   \n",
       "1                   25                    67   0.9968  3.20       0.68   \n",
       "2                   15                    54   0.9970  3.26       0.65   \n",
       "3                   17                    60   0.9980  3.16       0.58   \n",
       "4                   11                    34   0.9978  3.51       0.56   \n",
       "\n",
       "   alcohol  quality  \n",
       "0      9.4        5  \n",
       "1      9.8        5  \n",
       "2      9.8        5  \n",
       "3      9.8        6  \n",
       "4      9.4        5  "
      ]
     },
     "execution_count": 4,
     "metadata": {},
     "output_type": "execute_result"
    }
   ],
   "source": [
    "dataWine.head()"
   ]
  },
  {
   "cell_type": "code",
   "execution_count": 11,
   "id": "committed-advocacy",
   "metadata": {},
   "outputs": [
    {
     "name": "stdout",
     "output_type": "stream",
     "text": [
      "X = 27 | Y = 27\n",
      "mean = 27 | cov = 27\n"
     ]
    },
    {
     "data": {
      "text/plain": [
       "array([[5.],\n",
       "       [5.],\n",
       "       [5.],\n",
       "       [6.],\n",
       "       [5.],\n",
       "       [5.],\n",
       "       [5.],\n",
       "       [7.],\n",
       "       [7.],\n",
       "       [5.],\n",
       "       [5.],\n",
       "       [5.],\n",
       "       [5.],\n",
       "       [5.],\n",
       "       [5.],\n",
       "       [5.],\n",
       "       [7.],\n",
       "       [5.],\n",
       "       [4.],\n",
       "       [6.],\n",
       "       [6.],\n",
       "       [5.],\n",
       "       [5.],\n",
       "       [5.],\n",
       "       [6.],\n",
       "       [5.],\n",
       "       [5.]])"
      ]
     },
     "execution_count": 11,
     "metadata": {},
     "output_type": "execute_result"
    }
   ],
   "source": [
    "# creating data\n",
    "X = np.array(dataWine.iloc[:][['fixed acidity']])\n",
    "\n",
    "\n",
    "y = np.array(dataWine.iloc[:][['quality']])\n",
    "\n",
    "\n",
    "y = y.astype(float)\n",
    "\n",
    "print(\"X = \"+ str(len(X)) +\" | Y = \"+str(len(y)))\n",
    "\n",
    "mean = X\n",
    "\n",
    "cov = y\n",
    "\n",
    "print(\"mean = \"+ str(len(mean)) +\" | cov = \"+str(len(cov)))\n",
    "\n",
    "#data = np.random.multivariate_normal(mean, cov, 8000) \n",
    "#data\n",
    "\n",
    "y"
   ]
  },
  {
   "cell_type": "code",
   "execution_count": 28,
   "id": "interim-transformation",
   "metadata": {},
   "outputs": [
    {
     "data": {
      "image/png": "[encoded data removed]",
      "text/plain": [
       "<Figure size 432x288 with 1 Axes>"
      ]
     },
     "metadata": {
      "needs_background": "light"
     },
     "output_type": "display_data"
    }
   ],
   "source": [
    "# visualising data \n",
    "plt.scatter(data[:500, 0], data[:500, 1], marker = '.') \n",
    "plt.show() "
   ]
  },
  {
   "cell_type": "code",
   "execution_count": 29,
   "id": "sonic-rhythm",
   "metadata": {},
   "outputs": [],
   "source": [
    "# train-test-split \n",
    "data = np.hstack((np.ones((data.shape[0], 1)), data)) "
   ]
  },
  {
   "cell_type": "code",
   "execution_count": 30,
   "id": "negative-tenant",
   "metadata": {},
   "outputs": [],
   "source": [
    "split_factor = 0.90\n",
    "split = int(split_factor * data.shape[0]) "
   ]
  },
  {
   "cell_type": "code",
   "execution_count": 31,
   "id": "agreed-airfare",
   "metadata": {},
   "outputs": [],
   "source": [
    "X_train = data[:split, :-1] \n",
    "y_train = data[:split, -1].reshape((-1, 1)) \n",
    "X_test = data[split:, :-1] \n",
    "y_test = data[split:, -1].reshape((-1, 1))"
   ]
  },
  {
   "cell_type": "code",
   "execution_count": 32,
   "id": "restricted-uganda",
   "metadata": {},
   "outputs": [
    {
     "name": "stdout",
     "output_type": "stream",
     "text": [
      "Number of examples in training set =  7200\n",
      "Number of examples in testing set =  800\n"
     ]
    }
   ],
   "source": [
    "print(\"Number of examples in training set = % d\"%(X_train.shape[0])) \n",
    "print(\"Number of examples in testing set = % d\"%(X_test.shape[0])) "
   ]
  },
  {
   "cell_type": "code",
   "execution_count": 33,
   "id": "african-workplace",
   "metadata": {},
   "outputs": [],
   "source": [
    "\n",
    "# linear regression using \"mini-batch\" gradient descent \n",
    "# function to compute hypothesis / predictions \n",
    "def hypothesis(X, theta): \n",
    "    return np.dot(X, theta) \n",
    "  \n",
    "# function to compute gradient of error function w.r.t. theta \n",
    "def gradient(X, y, theta): \n",
    "    h = hypothesis(X, theta) \n",
    "    grad = np.dot(X.transpose(), (h - y)) \n",
    "    return grad \n",
    "  \n",
    "# function to compute the error for current values of theta \n",
    "def cost(X, y, theta): \n",
    "    h = hypothesis(X, theta) \n",
    "    J = np.dot((h - y).transpose(), (h - y)) \n",
    "    J /= 2\n",
    "    return J[0] \n",
    "  \n",
    "# function to create a list containing mini-batches \n",
    "def create_mini_batches(X, y, batch_size): \n",
    "    mini_batches = [] \n",
    "    data = np.hstack((X, y)) \n",
    "    np.random.shuffle(data) \n",
    "    n_minibatches = data.shape[0] // batch_size \n",
    "    i = 0\n",
    "  \n",
    "    for i in range(n_minibatches + 1): \n",
    "        mini_batch = data[i * batch_size:(i + 1)*batch_size, :] \n",
    "        X_mini = mini_batch[:, :-1] \n",
    "        Y_mini = mini_batch[:, -1].reshape((-1, 1)) \n",
    "        mini_batches.append((X_mini, Y_mini)) \n",
    "    if data.shape[0] % batch_size != 0: \n",
    "        mini_batch = data[i * batch_size:data.shape[0]] \n",
    "        X_mini = mini_batch[:, :-1] \n",
    "        Y_mini = mini_batch[:, -1].reshape((-1, 1)) \n",
    "        mini_batches.append((X_mini, Y_mini)) \n",
    "    return mini_batches \n",
    "  \n",
    "# function to perform mini-batch gradient descent \n",
    "def gradientDescent(X, y, learning_rate = 0.001, batch_size = 32): \n",
    "    theta = np.zeros((X.shape[1], 1)) \n",
    "    error_list = [] \n",
    "    max_iters = 3\n",
    "    for itr in range(max_iters): \n",
    "        mini_batches = create_mini_batches(X, y, batch_size) \n",
    "        for mini_batch in mini_batches: \n",
    "            X_mini, y_mini = mini_batch \n",
    "            theta = theta - learning_rate * gradient(X_mini, y_mini, theta) \n",
    "            error_list.append(cost(X_mini, y_mini, theta)) \n",
    "  \n",
    "    return theta, error_list "
   ]
  },
  {
   "cell_type": "code",
   "execution_count": 34,
   "id": "handy-appendix",
   "metadata": {},
   "outputs": [
    {
     "name": "stdout",
     "output_type": "stream",
     "text": [
      "Bias =  [0.79194217]\n",
      "Coefficients =  [[1.03904833]]\n"
     ]
    },
    {
     "data": {
      "image/png": "[encoded data removed]",
      "text/plain": [
       "<Figure size 432x288 with 1 Axes>"
      ]
     },
     "metadata": {
      "needs_background": "light"
     },
     "output_type": "display_data"
    }
   ],
   "source": [
    "theta, error_list = gradientDescent(X_train, y_train) \n",
    "print(\"Bias = \", theta[0]) \n",
    "print(\"Coefficients = \", theta[1:]) \n",
    "  \n",
    "# visualising gradient descent \n",
    "plt.plot(error_list) \n",
    "plt.xlabel(\"Number of iterations\") \n",
    "plt.ylabel(\"Cost\") \n",
    "plt.show() "
   ]
  },
  {
   "cell_type": "code",
   "execution_count": 37,
   "id": "wanted-alias",
   "metadata": {},
   "outputs": [
    {
     "data": {
      "image/png": "[encoded data removed]",
      "text/plain": [
       "<Figure size 432x288 with 1 Axes>"
      ]
     },
     "metadata": {
      "needs_background": "light"
     },
     "output_type": "display_data"
    },
    {
     "name": "stdout",
     "output_type": "stream",
     "text": [
      "Mean absolute error =  0.4399107903160292\n"
     ]
    }
   ],
   "source": [
    "# predicting output for X_test \n",
    "y_pred = hypothesis(X_test, theta) \n",
    "plt.scatter(X_test[:, 1], y_test[:, ], marker = '.') \n",
    "plt.plot(X_test[:, 1], y_pred, color = 'orange') \n",
    "plt.show() \n",
    "  \n",
    "# calculating error in predictions \n",
    "error = np.sum(np.abs(y_test - y_pred) / y_test.shape[0]) \n",
    "print(\"Mean absolute error = \", error) "
   ]
  },
  {
   "cell_type": "code",
   "execution_count": 39,
   "id": "continued-replacement",
   "metadata": {},
   "outputs": [
    {
     "data": {
      "text/plain": [
       "6.022385134930012"
      ]
     },
     "execution_count": 39,
     "metadata": {},
     "output_type": "execute_result"
    }
   ],
   "source": [
    "r = np.mean(y_pred)\n",
    "r"
   ]
  },
  {
   "cell_type": "code",
   "execution_count": null,
   "id": "opponent-daniel",
   "metadata": {},
   "outputs": [],
   "source": []
  }
 ],
 "metadata": {
  "kernelspec": {
   "display_name": "Python 3",
   "language": "python",
   "name": "python3"
  },
  "language_info": {
   "codemirror_mode": {
    "name": "ipython",
    "version": 3
   },
   "file_extension": ".py",
   "mimetype": "text/x-python",
   "name": "python",
   "nbconvert_exporter": "python",
   "pygments_lexer": "ipython3",
   "version": "3.8.5"
  }
 },
 "nbformat": 4,
 "nbformat_minor": 5
}
